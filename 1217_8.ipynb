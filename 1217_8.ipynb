{
  "nbformat": 4,
  "nbformat_minor": 0,
  "metadata": {
    "colab": {
      "provenance": [],
      "authorship_tag": "ABX9TyMy8VXJMDJEbMbw2CyWoNVS",
      "include_colab_link": true
    },
    "kernelspec": {
      "name": "python3",
      "display_name": "Python 3"
    },
    "language_info": {
      "name": "python"
    }
  },
  "cells": [
    {
      "cell_type": "markdown",
      "metadata": {
        "id": "view-in-github",
        "colab_type": "text"
      },
      "source": [
        "<a href=\"https://colab.research.google.com/github/uj94429/fin_data/blob/main/1217_8.ipynb\" target=\"_parent\"><img src=\"https://colab.research.google.com/assets/colab-badge.svg\" alt=\"Open In Colab\"/></a>"
      ]
    },
    {
      "cell_type": "code",
      "execution_count": 1,
      "metadata": {
        "colab": {
          "base_uri": "https://localhost:8080/"
        },
        "id": "DixxgVp96Z_N",
        "outputId": "fa1cf4c5-0ab3-41ec-e1dd-162d40b3c9df"
      },
      "outputs": [
        {
          "output_type": "execute_result",
          "data": {
            "text/plain": [
              "(2.1686310345016953,\n",
              " 0.17154975620002486,\n",
              " 0.15034296865820485,\n",
              " 0.03812962541663762,\n",
              " 2.3226692180856245,\n",
              " 0.23286187621389964)"
            ]
          },
          "metadata": {},
          "execution_count": 1
        }
      ],
      "source": [
        "import pandas as pd\n",
        "#匯入Pandas套件並且以pd為縮寫\n",
        "url = \"https://raw.githubusercontent.com/fju155447/fin_data2/main/balance_sheet.csv\"#設定資產負債表網址\n",
        "df1 = pd.read_csv(url, index_col=0, encoding='unicode_escape')#讀取該網址資料並且以第0欄為indexdf1顯示df1資料\n",
        "url = \"https://raw.githubusercontent.com/fju155447/fin_data2/main/income_statement.csv\"#設定損益表網址\n",
        "df2 = pd.read_csv(url, index_col=0, encoding='unicode_escape')#讀取該網址資料df2顯示df2資料\n",
        "\n",
        "X1 ='Total current assets'\n",
        "X2 ='Total current liabilities'\n",
        "X3 ='Total assets'\n",
        "X4 ='Total retained earnings'\n",
        "X5 ='Earnings before interest and tax'\n",
        "X6 ='Total equity'\n",
        "X7 ='Total operating revenue'\n",
        "X8='Total operating revenue'\n",
        "TCC ='1101 TCC'\n",
        "ACC ='1102 ACC'\n",
        "\n",
        "\n",
        "\n",
        "\n",
        "A_TCC = (df1.loc[TCC,X1] - df1.loc[TCC,X2])/df1.loc[TCC, X3]#計算A指標\n",
        "B_TCC = df1.loc[TCC,X4]/df1.loc[TCC, X3]#計算B指標\n",
        "C_TCC = df2.loc[TCC,X5]/df1.loc[TCC, X3]#計算C指標\n",
        "D_TCC = df1.loc[TCC,X6]/df1.loc[TCC, X7]  #調整分子項定義，採用股東權益帳面價值計算D指標\n",
        "E_TCC = df2.loc[TCC,X8]/df1.loc[TCC, X3]#計算E指標\n",
        "Z_score_TCC = 1.2*A_TCC + 1.4*B_TCC + 3.3*C_TCC + 0.6*D_TCC+1.0*E_TCC#計算Z-score\n",
        "Z_score_TCC, A_TCC, B_TCC, C_TCC, D_TCC, E_TCC#顯示結果"
      ]
    }
  ]
}