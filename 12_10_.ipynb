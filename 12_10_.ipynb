{
  "nbformat": 4,
  "nbformat_minor": 0,
  "metadata": {
    "colab": {
      "provenance": [],
      "authorship_tag": "ABX9TyM4htktFiX8nOFbPwuQ9kKN",
      "include_colab_link": true
    },
    "kernelspec": {
      "name": "python3",
      "display_name": "Python 3"
    },
    "language_info": {
      "name": "python"
    }
  },
  "cells": [
    {
      "cell_type": "markdown",
      "metadata": {
        "id": "view-in-github",
        "colab_type": "text"
      },
      "source": [
        "<a href=\"https://colab.research.google.com/github/uj94429/fin_data/blob/main/12_10_.ipynb\" target=\"_parent\"><img src=\"https://colab.research.google.com/assets/colab-badge.svg\" alt=\"Open In Colab\"/></a>"
      ]
    },
    {
      "cell_type": "code",
      "execution_count": 6,
      "metadata": {
        "colab": {
          "base_uri": "https://localhost:8080/"
        },
        "id": "5gSciHplzWTt",
        "outputId": "a04f2a30-24cf-4fa1-86ed-df9757f75314"
      },
      "outputs": [
        {
          "output_type": "stream",
          "name": "stdout",
          "text": [
            "           value forecast\n",
            "time                     \n",
            "24-Dec  24556033        F\n",
            "23-Dec  23355819        F\n",
            "22-Dec  22666522        P\n",
            "21-Dec  21738982        P\n",
            "20-Dec  19914806        R\n"
          ]
        }
      ],
      "source": [
        "import pandas as pd\n",
        "url = \"https://raw.githubusercontent.com/fju155447/fin_data/main/NominalGDP_new.csv\"\n",
        "df = pd.read_csv(url, index_col=0)\n",
        "print(df.head(5))\n",
        "\n"
      ]
    }
  ]
}