{
  "nbformat": 4,
  "nbformat_minor": 0,
  "metadata": {
    "colab": {
      "provenance": [],
      "authorship_tag": "ABX9TyPM1qMxJJbvULOtHPcobl/v",
      "include_colab_link": true
    },
    "kernelspec": {
      "name": "python3",
      "display_name": "Python 3"
    },
    "language_info": {
      "name": "python"
    }
  },
  "cells": [
    {
      "cell_type": "markdown",
      "metadata": {
        "id": "view-in-github",
        "colab_type": "text"
      },
      "source": [
        "<a href=\"https://colab.research.google.com/github/uj94429/fin_data/blob/main/12_10.ipynb\" target=\"_parent\"><img src=\"https://colab.research.google.com/assets/colab-badge.svg\" alt=\"Open In Colab\"/></a>"
      ]
    },
    {
      "cell_type": "code",
      "execution_count": 2,
      "metadata": {
        "colab": {
          "base_uri": "https://localhost:8080/"
        },
        "id": "Q-vJtp27pBHu",
        "outputId": "64c59027-568e-4113-8c02-7282beb4edaa"
      },
      "outputs": [
        {
          "output_type": "stream",
          "name": "stdout",
          "text": [
            "                   YYYY/MM  Quarter consolidation  Month Currency  \\\n",
            "CO_ID                                                               \n",
            "000024 CA-CIB      2024/09        3             N      9      NTD   \n",
            "000026 ING Taipei  2024/09        3             N      9      NTD   \n",
            "\n",
            "                  Total cash and cash equivalents  \\\n",
            "CO_ID                                               \n",
            "000024 CA-CIB                              28,752   \n",
            "000026 ING Taipei                       1,567,028   \n",
            "\n",
            "                  Total due from the central bank and call loans to banks  \\\n",
            "CO_ID                                                                       \n",
            "000024 CA-CIB                                                 62,972        \n",
            "000026 ING Taipei                                            581,161        \n",
            "\n",
            "                  Total financial assets at fair value through profit or loss  \\\n",
            "CO_ID                                                                           \n",
            "000024 CA-CIB                                             19,421,559            \n",
            "000026 ING Taipei                                         21,604,163            \n",
            "\n",
            "                   Derivative financial assets, net  \\\n",
            "CO_ID                                                 \n",
            "000024 CA-CIB                                     0   \n",
            "000026 ING Taipei                                 0   \n",
            "\n",
            "                   Securities purchased under resell agreements, net  ...  \\\n",
            "CO_ID                                                                 ...   \n",
            "000024 CA-CIB                                                      0  ...   \n",
            "000026 ING Taipei                                                  0  ...   \n",
            "\n",
            "                  Unearned compensation Other equity, others  \\\n",
            "CO_ID                                                          \n",
            "000024 CA-CIB                         -                    -   \n",
            "000026 ING Taipei                     0                    0   \n",
            "\n",
            "                   Total other equity interest Total Treasury shares  \\\n",
            "CO_ID                                                                  \n",
            "000024 CA-CIB                            5,863                     0   \n",
            "000026 ING Taipei                       44,653                     0   \n",
            "\n",
            "                  Total equity attributable to owners of parent  \\\n",
            "CO_ID                                                             \n",
            "000024 CA-CIB                                         6,255,930   \n",
            "000026 ING Taipei                                     3,844,870   \n",
            "\n",
            "                  Non-controlling interests  \\\n",
            "CO_ID                                         \n",
            "000024 CA-CIB                             0   \n",
            "000026 ING Taipei                         0   \n",
            "\n",
            "                   Interests in the former associate or jointly controlled entity  \\\n",
            "CO_ID                                                                               \n",
            "000024 CA-CIB                                                      0                \n",
            "000026 ING Taipei                                                  0                \n",
            "\n",
            "                   Non-controlling interest in pre-acquisition share capital  \\\n",
            "CO_ID                                                                          \n",
            "000024 CA-CIB                                                      0           \n",
            "000026 ING Taipei                                                  0           \n",
            "\n",
            "                   Total equity Total Liabilities & Equity  \n",
            "CO_ID                                                       \n",
            "000024 CA-CIB         6,255,930                138,272,924  \n",
            "000026 ING Taipei     3,844,870                154,020,441  \n",
            "\n",
            "[2 rows x 74 columns]\n"
          ]
        }
      ],
      "source": [
        "import pandas as pd\n",
        "url = \"https://raw.githubusercontent.com/uj94429/fin_data/refs/heads/main/balance%20sheet1.csv\"\n",
        "df = pd.read_csv(url, index_col=0)\n",
        "print(df.head(5))\n"
      ]
    }
  ]
}